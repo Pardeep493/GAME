{
 "cells": [
  {
   "cell_type": "code",
   "execution_count": 2,
   "id": "7dbad54d",
   "metadata": {},
   "outputs": [],
   "source": [
    "import random"
   ]
  },
  {
   "cell_type": "code",
   "execution_count": 4,
   "id": "90aea815",
   "metadata": {},
   "outputs": [
    {
     "name": "stdout",
     "output_type": "stream",
     "text": [
      "Enter a choice (rock, paper, scissors): rock\n",
      " player: rock\n",
      " computer: paper\n",
      "you lose!\n",
      "play again? (yes/no)yes\n",
      "Enter a choice (rock, paper, scissors): paper\n",
      " player: paper\n",
      " computer: paper\n",
      "tie match\n",
      "play again? (yes/no)no\n",
      "Thanks for playing!\n"
     ]
    }
   ],
   "source": [
    "options = (\"rock\", \"paper\", \"scissors\")\n",
    "running = True\n",
    "while running:\n",
    "    player = None\n",
    "    computer = random. choice(options)\n",
    "    while player not in options:\n",
    "        player = input(\"Enter a choice (rock, paper, scissors): \")\n",
    "    print(f\" player: {player}\")\n",
    "    print(f\" computer: {computer}\")\n",
    "    if player==computer:\n",
    "        print(\"tie match\")\n",
    "    elif player == \"rock\" and computer == \"scissors\":\n",
    "        print(\"you win\")\n",
    "    elif player == \"paper\" and computer == \"rock\" :\n",
    "        print(\"you win\")\n",
    "    elif player == \"scissors\" and computer == \"paper\":\n",
    "        print (\"you win\")\n",
    "    else:\n",
    "        print(\"you lose!\")\n",
    "    play_again = input(\"play again? (yes/no)\"). lower()\n",
    "    if not play_again == \"yes\":\n",
    "        running = False\n",
    "\n",
    "print (\"Thanks for playing!\")"
   ]
  },
  {
   "cell_type": "code",
   "execution_count": null,
   "id": "96d5fc24",
   "metadata": {},
   "outputs": [],
   "source": []
  }
 ],
 "metadata": {
  "kernelspec": {
   "display_name": "Python 3 (ipykernel)",
   "language": "python",
   "name": "python3"
  },
  "language_info": {
   "codemirror_mode": {
    "name": "ipython",
    "version": 3
   },
   "file_extension": ".py",
   "mimetype": "text/x-python",
   "name": "python",
   "nbconvert_exporter": "python",
   "pygments_lexer": "ipython3",
   "version": "3.11.3"
  }
 },
 "nbformat": 4,
 "nbformat_minor": 5
}
